{
 "cells": [
  {
   "cell_type": "code",
   "execution_count": 18,
   "metadata": {},
   "outputs": [],
   "source": [
    "# Importing Libraries\n",
    "import selenium\n",
    "import pandas as pd\n",
    "import time\n",
    "\n",
    "# Importing selenium webdriver \n",
    "from selenium import webdriver\n",
    "# Importing user input \n",
    "user_inp=input\n",
    "\n",
    "# Importing required Exceptions which needs to handled\n",
    "from selenium.common.exceptions import StaleElementReferenceException, NoSuchElementException\n",
    "from selenium.common.exceptions import ElementNotInteractableException\n",
    "\n",
    "#Activating the chrome browser\n",
    "driver = webdriver.Chrome(r\"C:\\Users\\Kiran kumar T\\Downloads\\chr\\chromedriver_win32 (1)\\chromedriver\")\n",
    "time.sleep(3)\n",
    "\n",
    "#opening the home page of https://ixigo.com\n",
    "url=(\"http://ixigo.com\")\n",
    "driver.get(url)\n",
    "time.sleep(3)"
   ]
  },
  {
   "cell_type": "code",
   "execution_count": 19,
   "metadata": {},
   "outputs": [],
   "source": [
    "clear_input=driver.find_element_by_xpath('//div[@class=\"filters-header\"]/div[1]/div[1]/div[2]') \n",
    "clear_input.click()"
   ]
  },
  {
   "cell_type": "code",
   "execution_count": 20,
   "metadata": {},
   "outputs": [
    {
     "name": "stdout",
     "output_type": "stream",
     "text": [
      "Enter the name of the cityBLR - Bengaluru\n"
     ]
    }
   ],
   "source": [
    "# Importing user input \n",
    "user_inp=input\n",
    "\n",
    "#enter the input to search the keywords.\n",
    "user_inp_city=input('Enter the name of the city')\n",
    "\n",
    "search_flight=driver.find_element_by_xpath('//div[@class=\"flight-origin-fliter\"]/div/div/input')      #locating search_bar by xpath\n",
    "search_flight.clear()                                                 #Clearing search_bar\n",
    "search_flight.send_keys(user_inp_city)                               #sending user input to search bar\n",
    "time.sleep(4)\n",
    "search_button=driver.find_element_by_xpath('//div[@class=\"filters-header\"]/div[1]/div[1]/div[3]/div[1]/div[1]')\n",
    "search_button.click()\n",
    "driver.implicitly_wait(10)"
   ]
  },
  {
   "cell_type": "code",
   "execution_count": 21,
   "metadata": {},
   "outputs": [],
   "source": [
    "show_more = driver.find_element_by_xpath('//div[@class=\"flights-cards-showmore\"]')\n",
    "show_more.click()\n",
    "show_more = driver.find_element_by_xpath('//div[@class=\"flights-cards-showmore\"]')\n",
    "show_more.click()\n",
    "show_more = driver.find_element_by_xpath('//div[@class=\"flights-cards-showmore\"]')\n",
    "show_more.click()"
   ]
  },
  {
   "cell_type": "code",
   "execution_count": 23,
   "metadata": {},
   "outputs": [
    {
     "ename": "NoSuchWindowException",
     "evalue": "Message: no such window: target window already closed\nfrom unknown error: web view not found\n  (Session info: chrome=94.0.4606.71)\n",
     "output_type": "error",
     "traceback": [
      "\u001b[1;31m---------------------------------------------------------------------------\u001b[0m",
      "\u001b[1;31mNoSuchWindowException\u001b[0m                     Traceback (most recent call last)",
      "\u001b[1;32m<ipython-input-23-0272e21792cd>\u001b[0m in \u001b[0;36m<module>\u001b[1;34m\u001b[0m\n\u001b[0;32m     56\u001b[0m \u001b[1;33m\u001b[0m\u001b[0m\n\u001b[0;32m     57\u001b[0m         \u001b[1;31m# Duration\u001b[0m\u001b[1;33m\u001b[0m\u001b[1;33m\u001b[0m\u001b[1;33m\u001b[0m\u001b[0m\n\u001b[1;32m---> 58\u001b[1;33m         \u001b[0mduration\u001b[0m \u001b[1;33m=\u001b[0m \u001b[0mdriver\u001b[0m\u001b[1;33m.\u001b[0m\u001b[0mfind_elements_by_xpath\u001b[0m\u001b[1;33m(\u001b[0m\u001b[1;34m'//div[@class=\"c-timeline-wrapper horizontal\"]/div[2]'\u001b[0m\u001b[1;33m.\u001b[0m\u001b[0mformat\u001b[0m\u001b[1;33m(\u001b[0m\u001b[0mi\u001b[0m\u001b[1;33m)\u001b[0m\u001b[1;33m)\u001b[0m\u001b[1;33m\u001b[0m\u001b[1;33m\u001b[0m\u001b[0m\n\u001b[0m\u001b[0;32m     59\u001b[0m         \u001b[1;32mfor\u001b[0m \u001b[0md\u001b[0m \u001b[1;32min\u001b[0m \u001b[0mduration\u001b[0m\u001b[1;33m:\u001b[0m\u001b[1;33m\u001b[0m\u001b[1;33m\u001b[0m\u001b[0m\n\u001b[0;32m     60\u001b[0m             \u001b[0mflights\u001b[0m\u001b[1;33m[\u001b[0m\u001b[1;34m\"Duration\"\u001b[0m\u001b[1;33m]\u001b[0m\u001b[1;33m.\u001b[0m\u001b[0mappend\u001b[0m\u001b[1;33m(\u001b[0m\u001b[0md\u001b[0m\u001b[1;33m.\u001b[0m\u001b[0mtext\u001b[0m\u001b[1;33m)\u001b[0m\u001b[1;33m\u001b[0m\u001b[1;33m\u001b[0m\u001b[0m\n",
      "\u001b[1;32m~\\anaconda3\\lib\\site-packages\\selenium\\webdriver\\remote\\webdriver.py\u001b[0m in \u001b[0;36mfind_elements_by_xpath\u001b[1;34m(self, xpath)\u001b[0m\n\u001b[0;32m    408\u001b[0m             \u001b[0melements\u001b[0m \u001b[1;33m=\u001b[0m \u001b[0mdriver\u001b[0m\u001b[1;33m.\u001b[0m\u001b[0mfind_elements_by_xpath\u001b[0m\u001b[1;33m(\u001b[0m\u001b[1;34m\"//div[contains(@class, 'foo')]\"\u001b[0m\u001b[1;33m)\u001b[0m\u001b[1;33m\u001b[0m\u001b[1;33m\u001b[0m\u001b[0m\n\u001b[0;32m    409\u001b[0m         \"\"\"\n\u001b[1;32m--> 410\u001b[1;33m         \u001b[1;32mreturn\u001b[0m \u001b[0mself\u001b[0m\u001b[1;33m.\u001b[0m\u001b[0mfind_elements\u001b[0m\u001b[1;33m(\u001b[0m\u001b[0mby\u001b[0m\u001b[1;33m=\u001b[0m\u001b[0mBy\u001b[0m\u001b[1;33m.\u001b[0m\u001b[0mXPATH\u001b[0m\u001b[1;33m,\u001b[0m \u001b[0mvalue\u001b[0m\u001b[1;33m=\u001b[0m\u001b[0mxpath\u001b[0m\u001b[1;33m)\u001b[0m\u001b[1;33m\u001b[0m\u001b[1;33m\u001b[0m\u001b[0m\n\u001b[0m\u001b[0;32m    411\u001b[0m \u001b[1;33m\u001b[0m\u001b[0m\n\u001b[0;32m    412\u001b[0m     \u001b[1;32mdef\u001b[0m \u001b[0mfind_element_by_link_text\u001b[0m\u001b[1;33m(\u001b[0m\u001b[0mself\u001b[0m\u001b[1;33m,\u001b[0m \u001b[0mlink_text\u001b[0m\u001b[1;33m)\u001b[0m\u001b[1;33m:\u001b[0m\u001b[1;33m\u001b[0m\u001b[1;33m\u001b[0m\u001b[0m\n",
      "\u001b[1;32m~\\anaconda3\\lib\\site-packages\\selenium\\webdriver\\remote\\webdriver.py\u001b[0m in \u001b[0;36mfind_elements\u001b[1;34m(self, by, value)\u001b[0m\n\u001b[0;32m   1003\u001b[0m         \u001b[1;31m# Return empty list if driver returns null\u001b[0m\u001b[1;33m\u001b[0m\u001b[1;33m\u001b[0m\u001b[1;33m\u001b[0m\u001b[0m\n\u001b[0;32m   1004\u001b[0m         \u001b[1;31m# See https://github.com/SeleniumHQ/selenium/issues/4555\u001b[0m\u001b[1;33m\u001b[0m\u001b[1;33m\u001b[0m\u001b[1;33m\u001b[0m\u001b[0m\n\u001b[1;32m-> 1005\u001b[1;33m         return self.execute(Command.FIND_ELEMENTS, {\n\u001b[0m\u001b[0;32m   1006\u001b[0m             \u001b[1;34m'using'\u001b[0m\u001b[1;33m:\u001b[0m \u001b[0mby\u001b[0m\u001b[1;33m,\u001b[0m\u001b[1;33m\u001b[0m\u001b[1;33m\u001b[0m\u001b[0m\n\u001b[0;32m   1007\u001b[0m             'value': value})['value'] or []\n",
      "\u001b[1;32m~\\anaconda3\\lib\\site-packages\\selenium\\webdriver\\remote\\webdriver.py\u001b[0m in \u001b[0;36mexecute\u001b[1;34m(self, driver_command, params)\u001b[0m\n\u001b[0;32m    319\u001b[0m         \u001b[0mresponse\u001b[0m \u001b[1;33m=\u001b[0m \u001b[0mself\u001b[0m\u001b[1;33m.\u001b[0m\u001b[0mcommand_executor\u001b[0m\u001b[1;33m.\u001b[0m\u001b[0mexecute\u001b[0m\u001b[1;33m(\u001b[0m\u001b[0mdriver_command\u001b[0m\u001b[1;33m,\u001b[0m \u001b[0mparams\u001b[0m\u001b[1;33m)\u001b[0m\u001b[1;33m\u001b[0m\u001b[1;33m\u001b[0m\u001b[0m\n\u001b[0;32m    320\u001b[0m         \u001b[1;32mif\u001b[0m \u001b[0mresponse\u001b[0m\u001b[1;33m:\u001b[0m\u001b[1;33m\u001b[0m\u001b[1;33m\u001b[0m\u001b[0m\n\u001b[1;32m--> 321\u001b[1;33m             \u001b[0mself\u001b[0m\u001b[1;33m.\u001b[0m\u001b[0merror_handler\u001b[0m\u001b[1;33m.\u001b[0m\u001b[0mcheck_response\u001b[0m\u001b[1;33m(\u001b[0m\u001b[0mresponse\u001b[0m\u001b[1;33m)\u001b[0m\u001b[1;33m\u001b[0m\u001b[1;33m\u001b[0m\u001b[0m\n\u001b[0m\u001b[0;32m    322\u001b[0m             response['value'] = self._unwrap_value(\n\u001b[0;32m    323\u001b[0m                 response.get('value', None))\n",
      "\u001b[1;32m~\\anaconda3\\lib\\site-packages\\selenium\\webdriver\\remote\\errorhandler.py\u001b[0m in \u001b[0;36mcheck_response\u001b[1;34m(self, response)\u001b[0m\n\u001b[0;32m    240\u001b[0m                 \u001b[0malert_text\u001b[0m \u001b[1;33m=\u001b[0m \u001b[0mvalue\u001b[0m\u001b[1;33m[\u001b[0m\u001b[1;34m'alert'\u001b[0m\u001b[1;33m]\u001b[0m\u001b[1;33m.\u001b[0m\u001b[0mget\u001b[0m\u001b[1;33m(\u001b[0m\u001b[1;34m'text'\u001b[0m\u001b[1;33m)\u001b[0m\u001b[1;33m\u001b[0m\u001b[1;33m\u001b[0m\u001b[0m\n\u001b[0;32m    241\u001b[0m             \u001b[1;32mraise\u001b[0m \u001b[0mexception_class\u001b[0m\u001b[1;33m(\u001b[0m\u001b[0mmessage\u001b[0m\u001b[1;33m,\u001b[0m \u001b[0mscreen\u001b[0m\u001b[1;33m,\u001b[0m \u001b[0mstacktrace\u001b[0m\u001b[1;33m,\u001b[0m \u001b[0malert_text\u001b[0m\u001b[1;33m)\u001b[0m\u001b[1;33m\u001b[0m\u001b[1;33m\u001b[0m\u001b[0m\n\u001b[1;32m--> 242\u001b[1;33m         \u001b[1;32mraise\u001b[0m \u001b[0mexception_class\u001b[0m\u001b[1;33m(\u001b[0m\u001b[0mmessage\u001b[0m\u001b[1;33m,\u001b[0m \u001b[0mscreen\u001b[0m\u001b[1;33m,\u001b[0m \u001b[0mstacktrace\u001b[0m\u001b[1;33m)\u001b[0m\u001b[1;33m\u001b[0m\u001b[1;33m\u001b[0m\u001b[0m\n\u001b[0m\u001b[0;32m    243\u001b[0m \u001b[1;33m\u001b[0m\u001b[0m\n\u001b[0;32m    244\u001b[0m     \u001b[1;32mdef\u001b[0m \u001b[0m_value_or_default\u001b[0m\u001b[1;33m(\u001b[0m\u001b[0mself\u001b[0m\u001b[1;33m,\u001b[0m \u001b[0mobj\u001b[0m\u001b[1;33m,\u001b[0m \u001b[0mkey\u001b[0m\u001b[1;33m,\u001b[0m \u001b[0mdefault\u001b[0m\u001b[1;33m)\u001b[0m\u001b[1;33m:\u001b[0m\u001b[1;33m\u001b[0m\u001b[1;33m\u001b[0m\u001b[0m\n",
      "\u001b[1;31mNoSuchWindowException\u001b[0m: Message: no such window: target window already closed\nfrom unknown error: web view not found\n  (Session info: chrome=94.0.4606.71)\n"
     ]
    }
   ],
   "source": [
    "urls=driver.find_elements_by_xpath('//div[@clasname=\"flight-cards\"]/div/div[2]/div[1]/div[2]/div[1]/a') #collecting urls of all the flight deatils\n",
    "UR=[]\n",
    "for i in urls:\n",
    "    UR.append(i.get_attribute('href'))                # getting an url how much we required\n",
    "for url in UR:#loop for every fights in the list\n",
    "    driver.get(url)\n",
    "\n",
    "# Creating empty list\n",
    "flights = {}\n",
    "flights[\"Airline\"] = []\n",
    "flights[\"Date_of_Journey\"] = []\n",
    "flights[\"Source\"] = []\n",
    "flights[\"Destination\"] = []\n",
    "flights[\"Departure_Time\"] = []\n",
    "flights[\"Arrival_Time\"] = []\n",
    "flights[\"Duration\"] = []\n",
    "flights[\"Total_Stops\"] = []\n",
    "flights[\"Selling_Price\"] = []\n",
    "\n",
    "time.sleep(3)\n",
    "start=0\n",
    "end=1\n",
    "for page in range(start,end):\n",
    "    try:\n",
    "        # Airline\n",
    "        airline = driver.find_elements_by_xpath('//a[@class=\"flight-name\"]'.format(i))\n",
    "        for a in airline:\n",
    "            flights[\"Airline\"].append(a.text)\n",
    "        \n",
    "        # Date_of_Journey \n",
    "        date_of_journey = driver.find_elements_by_xpath('//div[@class=\"flight-summary\"]/div[1]/div[3]'.format(i))\n",
    "        for d in date_of_journey:\n",
    "            flights[\"Date_of_Journey\"].append(d.text) \n",
    "            \n",
    "        # Source\n",
    "        source = driver.find_elements_by_xpath('//div[@class=\"flight-summary\"]/div[1]/div[4]'.format(i))\n",
    "        for s in source:\n",
    "            flights[\"Source\"].append(s.text)\n",
    "        \n",
    "        # Destination \n",
    "        destination = driver.find_elements_by_xpath('//div[@class=\"flight-summary\"]/div[3]/div[4]'.format(i))\n",
    "        for d in destination:\n",
    "            flights[\"Destination\"].append(d.text)\n",
    "            \n",
    "        \n",
    "        # Departure_Time\n",
    "        departure_time = driver.find_elements_by_xpath('//div[@class=\"flight-summary\"]/div[1]/div[2]'.format(i))\n",
    "        for dt in departure_time:\n",
    "            flights[\"Departure_Time\"].append(dt.text)\n",
    "            \n",
    "            \n",
    "        # Arrival_Time\n",
    "        arrival_Time = driver.find_elements_by_xpath('//div[@class=\"flight-summary\"]/div[3]/div[2]'.format(i))\n",
    "        for at in arrival_Time:\n",
    "            flights[\"Arrival_Time\"].append(at.text)\n",
    "        \n",
    "        # Duration\n",
    "        duration = driver.find_elements_by_xpath('//div[@class=\"c-timeline-wrapper horizontal\"]/div[2]'.format(i))\n",
    "        for d in duration:\n",
    "            flights[\"Duration\"].append(d.text) \n",
    "            \n",
    "        \n",
    "        # Total_Stops\n",
    "        total_stops = driver.find_elements_by_xpath('//div[@class=\"c-timeline-wrapper horizontal\"]/div[6]'.format(i))\n",
    "        for ts in total_stops:\n",
    "            flights[\"Total_Stops\"].append(ts.text)\n",
    "                 \n",
    "        \n",
    "        # Selling Price\n",
    "        selling_Price = driver.find_elements_by_xpath('//div[@class=\"price-section\"]/div[1]/div[1]/span[2]'.format(i))\n",
    "        for sp in selling_Price:\n",
    "            flights[\"Selling_Price\"].append(sp.text)\n",
    "                      \n",
    "    \n",
    "    except NoSuchElementException:\n",
    "        flights[\"Airline\"].append('-')\n",
    "        flights[\"Date_of_Journey\"].append('-')\n",
    "        flights[\"Source\"].append('-')\n",
    "        flights[\"Destination\"].append('-')\n",
    "        flights[\"Arrival_Time\"].append('-')\n",
    "        flights[\"Duration\"].append('-')\n",
    "        flights[\"Total_Stops\"].append('-')\n",
    "        flights[\"Selling_Price\"].append('-')\n",
    "        \n",
    "time.sleep(3)\n",
    "# Make dataframe\n",
    "Flight_Price_Bangalore = pd.DataFrame(flights)\n",
    "Flight_Price_Bangalore"
   ]
  },
  {
   "cell_type": "code",
   "execution_count": null,
   "metadata": {},
   "outputs": [],
   "source": [
    "# determining the name of the file\n",
    "file_name = 'Flight_Price_Bangalore.xlsx'\n",
    "  \n",
    "# saving the excel\n",
    "Flight_Price_Bangalore.to_excel(file_name)\n",
    "print('DataFrame is written to Excel File successfully.')"
   ]
  }
 ],
 "metadata": {
  "kernelspec": {
   "display_name": "Python 3",
   "language": "python",
   "name": "python3"
  },
  "language_info": {
   "codemirror_mode": {
    "name": "ipython",
    "version": 3
   },
   "file_extension": ".py",
   "mimetype": "text/x-python",
   "name": "python",
   "nbconvert_exporter": "python",
   "pygments_lexer": "ipython3",
   "version": "3.8.5"
  }
 },
 "nbformat": 4,
 "nbformat_minor": 4
}
